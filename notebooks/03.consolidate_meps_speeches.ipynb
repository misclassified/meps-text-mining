{
 "cells": [
  {
   "cell_type": "code",
   "execution_count": 7,
   "metadata": {},
   "outputs": [
    {
     "name": "stdout",
     "output_type": "stream",
     "text": [
      "The autoreload extension is already loaded. To reload it, use:\n",
      "  %reload_ext autoreload\n"
     ]
    }
   ],
   "source": [
    "%load_ext autoreload\n",
    "%autoreload 2\n",
    "\n",
    "import pandas as pd\n",
    "import yaml\n",
    "import os\n",
    "\n",
    "import sys \n",
    "sys.path.append(\"../src\")\n",
    "\n",
    "\n",
    "from utils import join_csv_files, split_text_into_chunks"
   ]
  },
  {
   "cell_type": "code",
   "execution_count": 8,
   "metadata": {},
   "outputs": [],
   "source": [
    "with open('../config/config.yaml', 'r') as file:\n",
    "    config = yaml.safe_load(file)"
   ]
  },
  {
   "attachments": {},
   "cell_type": "markdown",
   "metadata": {},
   "source": [
    "### Load all MEPS speeches available\n",
    "\n"
   ]
  },
  {
   "cell_type": "code",
   "execution_count": 30,
   "metadata": {},
   "outputs": [
    {
     "data": {
      "text/html": [
       "<div>\n",
       "<style scoped>\n",
       "    .dataframe tbody tr th:only-of-type {\n",
       "        vertical-align: middle;\n",
       "    }\n",
       "\n",
       "    .dataframe tbody tr th {\n",
       "        vertical-align: top;\n",
       "    }\n",
       "\n",
       "    .dataframe thead th {\n",
       "        text-align: right;\n",
       "    }\n",
       "</style>\n",
       "<table border=\"1\" class=\"dataframe\">\n",
       "  <thead>\n",
       "    <tr style=\"text-align: right;\">\n",
       "      <th></th>\n",
       "      <th>MP</th>\n",
       "      <th>Date</th>\n",
       "      <th>Language</th>\n",
       "      <th>Title</th>\n",
       "      <th>Url</th>\n",
       "      <th>Content</th>\n",
       "      <th>country</th>\n",
       "      <th>politicalGroup</th>\n",
       "      <th>id</th>\n",
       "      <th>nationalPoliticalGroup</th>\n",
       "    </tr>\n",
       "  </thead>\n",
       "  <tbody>\n",
       "    <tr>\n",
       "      <th>0</th>\n",
       "      <td>Daniel CASPARY</td>\n",
       "      <td>2023-11-21</td>\n",
       "      <td>DE</td>\n",
       "      <td>EU/New Zealand Free Trade Agreement (debate)</td>\n",
       "      <td>https://www.europarl.europa.eu/doceo/document/...</td>\n",
       "      <td>Daniel Caspary,  Berichterstatter. – Herr Pr...</td>\n",
       "      <td>Germany</td>\n",
       "      <td>Group of the European People's Party (Christia...</td>\n",
       "      <td>28219</td>\n",
       "      <td>Christlich Demokratische Union Deutschlands</td>\n",
       "    </tr>\n",
       "    <tr>\n",
       "      <th>1</th>\n",
       "      <td>Daniel CASPARY</td>\n",
       "      <td>2023-11-21</td>\n",
       "      <td>DE</td>\n",
       "      <td>EU/New Zealand Free Trade Agreement (debate)</td>\n",
       "      <td>https://www.europarl.europa.eu/doceo/document/...</td>\n",
       "      <td>Daniel Caspary (PPE),  Frage nach dem Verfah...</td>\n",
       "      <td>Germany</td>\n",
       "      <td>Group of the European People's Party (Christia...</td>\n",
       "      <td>28219</td>\n",
       "      <td>Christlich Demokratische Union Deutschlands</td>\n",
       "    </tr>\n",
       "    <tr>\n",
       "      <th>2</th>\n",
       "      <td>Daniel CASPARY</td>\n",
       "      <td>2023-11-21</td>\n",
       "      <td>DE</td>\n",
       "      <td>EU/New Zealand Free Trade Agreement (debate)</td>\n",
       "      <td>https://www.europarl.europa.eu/doceo/document/...</td>\n",
       "      <td>Daniel Caspary,  Berichterstatter. – Frau Pr...</td>\n",
       "      <td>Germany</td>\n",
       "      <td>Group of the European People's Party (Christia...</td>\n",
       "      <td>28219</td>\n",
       "      <td>Christlich Demokratische Union Deutschlands</td>\n",
       "    </tr>\n",
       "    <tr>\n",
       "      <th>3</th>\n",
       "      <td>Daniel CASPARY</td>\n",
       "      <td>2023-11-08</td>\n",
       "      <td>DE</td>\n",
       "      <td>Urgent need for immediate measures against the...</td>\n",
       "      <td>https://www.europarl.europa.eu/doceo/document/...</td>\n",
       "      <td>Daniel Caspary,  im Namen der PPE-Fraktion. ...</td>\n",
       "      <td>Germany</td>\n",
       "      <td>Group of the European People's Party (Christia...</td>\n",
       "      <td>28219</td>\n",
       "      <td>Christlich Demokratische Union Deutschlands</td>\n",
       "    </tr>\n",
       "    <tr>\n",
       "      <th>4</th>\n",
       "      <td>Daniel CASPARY</td>\n",
       "      <td>2023-10-18</td>\n",
       "      <td>DE</td>\n",
       "      <td>The despicable terrorist attacks by Hamas agai...</td>\n",
       "      <td>https://www.europarl.europa.eu/doceo/document/...</td>\n",
       "      <td>Daniel Caspary (PPE).   – Herr Präsident! De...</td>\n",
       "      <td>Germany</td>\n",
       "      <td>Group of the European People's Party (Christia...</td>\n",
       "      <td>28219</td>\n",
       "      <td>Christlich Demokratische Union Deutschlands</td>\n",
       "    </tr>\n",
       "  </tbody>\n",
       "</table>\n",
       "</div>"
      ],
      "text/plain": [
       "               MP        Date Language  \\\n",
       "0  Daniel CASPARY  2023-11-21       DE   \n",
       "1  Daniel CASPARY  2023-11-21       DE   \n",
       "2  Daniel CASPARY  2023-11-21       DE   \n",
       "3  Daniel CASPARY  2023-11-08       DE   \n",
       "4  Daniel CASPARY  2023-10-18       DE   \n",
       "\n",
       "                                               Title  \\\n",
       "0       EU/New Zealand Free Trade Agreement (debate)   \n",
       "1       EU/New Zealand Free Trade Agreement (debate)   \n",
       "2       EU/New Zealand Free Trade Agreement (debate)   \n",
       "3  Urgent need for immediate measures against the...   \n",
       "4  The despicable terrorist attacks by Hamas agai...   \n",
       "\n",
       "                                                 Url  \\\n",
       "0  https://www.europarl.europa.eu/doceo/document/...   \n",
       "1  https://www.europarl.europa.eu/doceo/document/...   \n",
       "2  https://www.europarl.europa.eu/doceo/document/...   \n",
       "3  https://www.europarl.europa.eu/doceo/document/...   \n",
       "4  https://www.europarl.europa.eu/doceo/document/...   \n",
       "\n",
       "                                             Content  country  \\\n",
       "0    Daniel Caspary,  Berichterstatter. – Herr Pr...  Germany   \n",
       "1    Daniel Caspary (PPE),  Frage nach dem Verfah...  Germany   \n",
       "2    Daniel Caspary,  Berichterstatter. – Frau Pr...  Germany   \n",
       "3    Daniel Caspary,  im Namen der PPE-Fraktion. ...  Germany   \n",
       "4    Daniel Caspary (PPE).   – Herr Präsident! De...  Germany   \n",
       "\n",
       "                                      politicalGroup     id  \\\n",
       "0  Group of the European People's Party (Christia...  28219   \n",
       "1  Group of the European People's Party (Christia...  28219   \n",
       "2  Group of the European People's Party (Christia...  28219   \n",
       "3  Group of the European People's Party (Christia...  28219   \n",
       "4  Group of the European People's Party (Christia...  28219   \n",
       "\n",
       "                        nationalPoliticalGroup  \n",
       "0  Christlich Demokratische Union Deutschlands  \n",
       "1  Christlich Demokratische Union Deutschlands  \n",
       "2  Christlich Demokratische Union Deutschlands  \n",
       "3  Christlich Demokratische Union Deutschlands  \n",
       "4  Christlich Demokratische Union Deutschlands  "
      ]
     },
     "execution_count": 30,
     "metadata": {},
     "output_type": "execute_result"
    }
   ],
   "source": [
    "# Concatenate all scraped speeches\n",
    "current_directory = os.path.dirname(os.path.abspath(os.getcwd()))\n",
    "input_directory = os.path.join(os.path.dirname(current_directory), config['meps_speeches']['output_dir'])\n",
    "df = join_csv_files(input_directory)\n",
    "\n",
    "# Concatenate all available meps metadata\n",
    "input_meps_list = config['meps_list']['output_dir']\n",
    "list_of_meps = join_csv_files(os.path.join(os.path.dirname(current_directory), input_meps_list))\n",
    "\n",
    "# Join speeches + metadata\n",
    "df = pd.merge(df, list_of_meps.rename(columns = {'fullName': 'MP'}), on = 'MP', how = 'left' )\n",
    "df.head()"
   ]
  },
  {
   "cell_type": "code",
   "execution_count": 31,
   "metadata": {},
   "outputs": [
    {
     "name": "stdout",
     "output_type": "stream",
     "text": [
      "Total Entries: 14886\n",
      "country\n",
      "Germany    6472\n",
      "France     3414\n",
      "Italy      3397\n",
      "Belgium    1603\n",
      "Name: count, dtype: int64\n"
     ]
    }
   ],
   "source": [
    "print(f\"Total Entries: {len(df)}\")\n",
    "print(df['country'].value_counts())"
   ]
  },
  {
   "cell_type": "code",
   "execution_count": 32,
   "metadata": {},
   "outputs": [],
   "source": [
    "# Save Output\n",
    "file_name = os.path.join(config['meps_speeches_dataframe']['output_dir'], config['meps_speeches_dataframe']['filename'])\n",
    "df.to_csv(os.path.join(os.path.dirname(current_directory), file_name), index = False)"
   ]
  }
 ],
 "metadata": {
  "kernelspec": {
   "display_name": "Python 3",
   "language": "python",
   "name": "python3"
  },
  "language_info": {
   "codemirror_mode": {
    "name": "ipython",
    "version": 3
   },
   "file_extension": ".py",
   "mimetype": "text/x-python",
   "name": "python",
   "nbconvert_exporter": "python",
   "pygments_lexer": "ipython3",
   "version": "3.11.4"
  },
  "orig_nbformat": 4
 },
 "nbformat": 4,
 "nbformat_minor": 2
}
