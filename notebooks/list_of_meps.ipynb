{
 "cells": [
  {
   "cell_type": "code",
   "execution_count": 35,
   "metadata": {},
   "outputs": [],
   "source": [
    "import sys \n",
    "sys.path.append(\"../src\")\n",
    "\n",
    "from scrape_list_of_meps import fetch_xml_data, xml_to_dict"
   ]
  },
  {
   "cell_type": "code",
   "execution_count": 44,
   "metadata": {},
   "outputs": [
    {
     "name": "stdout",
     "output_type": "stream",
     "text": [
      "Function returned an empty set, please check your url\n"
     ]
    }
   ],
   "source": [
    "# URL to fetch the XML data\n",
    "url = \"https://www.europarl.europa.eu/meps/en/download/advanced/xml?name=&countryCode=IT\"\n",
    "out_file = '../data/meps_test.csv'\n",
    "\n",
    "# Fetch the XML data\n",
    "xml_data = fetch_xml_data(url)\n",
    "\n",
    "if xml_data is not None:\n",
    "    # Convert the XML data to a Python dictionary\n",
    "    parsed_data = xml_to_dict(xml_data)\n",
    "\n",
    "    if parsed_data is not None:\n",
    "        df = pd.DataFrame.from_dict(parsed_data['mep'])\n",
    "        df.to_csv(out_file, index = False)\n",
    "    else:\n",
    "        print(\"Function returned an empty set, please check your url\")"
   ]
  }
 ],
 "metadata": {
  "kernelspec": {
   "display_name": "Python 3",
   "language": "python",
   "name": "python3"
  },
  "language_info": {
   "codemirror_mode": {
    "name": "ipython",
    "version": 3
   },
   "file_extension": ".py",
   "mimetype": "text/x-python",
   "name": "python",
   "nbconvert_exporter": "python",
   "pygments_lexer": "ipython3",
   "version": "3.11.4"
  },
  "orig_nbformat": 4
 },
 "nbformat": 4,
 "nbformat_minor": 2
}
