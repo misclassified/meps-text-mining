{
 "cells": [
  {
   "cell_type": "code",
   "execution_count": 34,
   "metadata": {},
   "outputs": [
    {
     "name": "stdout",
     "output_type": "stream",
     "text": [
      "The autoreload extension is already loaded. To reload it, use:\n",
      "  %reload_ext autoreload\n"
     ]
    }
   ],
   "source": [
    "%load_ext autoreload\n",
    "%autoreload 2\n",
    "\n",
    "import pprint\n",
    "import pandas as pd\n",
    "import yaml\n",
    "import os\n",
    "\n",
    "import sys \n",
    "sys.path.append(\"../src\")\n",
    "\n",
    "from llama_index import SimpleDirectoryReader\n",
    "from transformers import AutoTokenizer, AutoModelForSeq2SeqLM\n",
    "\n",
    "from utils import join_csv_files, split_text_into_chunks"
   ]
  },
  {
   "cell_type": "code",
   "execution_count": 35,
   "metadata": {},
   "outputs": [],
   "source": [
    "from dotenv import load_dotenv, find_dotenv\n",
    "import openai\n",
    "\n",
    "# Load Environment Variables\n",
    "_ = load_dotenv(find_dotenv())\n",
    "openai.api_key = os.getenv(\"OPENAI_API_KEY\")"
   ]
  },
  {
   "cell_type": "code",
   "execution_count": 36,
   "metadata": {},
   "outputs": [],
   "source": [
    "with open('../config/config.yaml', 'r') as file:\n",
    "    config = yaml.safe_load(file)"
   ]
  },
  {
   "cell_type": "markdown",
   "metadata": {},
   "source": [
    "# Get Data"
   ]
  },
  {
   "cell_type": "code",
   "execution_count": 37,
   "metadata": {},
   "outputs": [],
   "source": [
    "current_directory = os.path.dirname(os.path.abspath(os.getcwd()))\n",
    "\n",
    "# Speeches Paths\n",
    "input_path = os.path.join(config['meps_speeches_dataframe']['output_dir'], config['meps_speeches_dataframe']['filename'])\n",
    "input_path_tr = os.path.join(config['meps_speeches_en_translation']['output_dir'], config['meps_speeches_en_translation']['filename'])\n",
    "input_meps_list = config['meps_list']['output_dir']\n",
    "\n",
    "# Speeches Dataframe\n",
    "speeches = pd.read_csv(os.path.join(os.path.dirname(current_directory), input_path))\n",
    "translations = pd.read_csv(os.path.join(os.path.dirname(current_directory), input_path_tr), sep = '|', names = ['Url', 'Translation'])\n",
    "\n",
    "# Join Speeches to translations and add metadata\n",
    "df = pd.merge(speeches, translations, on = 'Url', how = 'left')"
   ]
  },
  {
   "cell_type": "code",
   "execution_count": 8,
   "metadata": {},
   "outputs": [
    {
     "data": {
      "text/html": [
       "<div>\n",
       "<style scoped>\n",
       "    .dataframe tbody tr th:only-of-type {\n",
       "        vertical-align: middle;\n",
       "    }\n",
       "\n",
       "    .dataframe tbody tr th {\n",
       "        vertical-align: top;\n",
       "    }\n",
       "\n",
       "    .dataframe thead th {\n",
       "        text-align: right;\n",
       "    }\n",
       "</style>\n",
       "<table border=\"1\" class=\"dataframe\">\n",
       "  <thead>\n",
       "    <tr style=\"text-align: right;\">\n",
       "      <th></th>\n",
       "      <th>MP</th>\n",
       "      <th>DATE</th>\n",
       "      <th>LANGUAGE</th>\n",
       "      <th>TITLE</th>\n",
       "      <th>URL</th>\n",
       "      <th>CONTENT</th>\n",
       "      <th>COUNTRY</th>\n",
       "      <th>POLITICALGROUP</th>\n",
       "      <th>ID</th>\n",
       "      <th>NATIONALPOLITICALGROUP</th>\n",
       "      <th>TRANSLATION</th>\n",
       "    </tr>\n",
       "  </thead>\n",
       "  <tbody>\n",
       "    <tr>\n",
       "      <th>0</th>\n",
       "      <td>Daniel CASPARY</td>\n",
       "      <td>2023-11-21</td>\n",
       "      <td>DE</td>\n",
       "      <td>EU/New Zealand Free Trade Agreement (debate)</td>\n",
       "      <td>https://www.europarl.europa.eu/doceo/document/...</td>\n",
       "      <td>Daniel Caspary,  Berichterstatter. – Herr Pr...</td>\n",
       "      <td>Germany</td>\n",
       "      <td>Group of the European People's Party (Christia...</td>\n",
       "      <td>28219</td>\n",
       "      <td>Christlich Demokratische Union Deutschlands</td>\n",
       "      <td>NaN</td>\n",
       "    </tr>\n",
       "    <tr>\n",
       "      <th>1</th>\n",
       "      <td>Daniel CASPARY</td>\n",
       "      <td>2023-11-21</td>\n",
       "      <td>DE</td>\n",
       "      <td>EU/New Zealand Free Trade Agreement (debate)</td>\n",
       "      <td>https://www.europarl.europa.eu/doceo/document/...</td>\n",
       "      <td>Daniel Caspary (PPE),  Frage nach dem Verfah...</td>\n",
       "      <td>Germany</td>\n",
       "      <td>Group of the European People's Party (Christia...</td>\n",
       "      <td>28219</td>\n",
       "      <td>Christlich Demokratische Union Deutschlands</td>\n",
       "      <td>NaN</td>\n",
       "    </tr>\n",
       "  </tbody>\n",
       "</table>\n",
       "</div>"
      ],
      "text/plain": [
       "               MP        DATE LANGUAGE  \\\n",
       "0  Daniel CASPARY  2023-11-21       DE   \n",
       "1  Daniel CASPARY  2023-11-21       DE   \n",
       "\n",
       "                                          TITLE  \\\n",
       "0  EU/New Zealand Free Trade Agreement (debate)   \n",
       "1  EU/New Zealand Free Trade Agreement (debate)   \n",
       "\n",
       "                                                 URL  \\\n",
       "0  https://www.europarl.europa.eu/doceo/document/...   \n",
       "1  https://www.europarl.europa.eu/doceo/document/...   \n",
       "\n",
       "                                             CONTENT  COUNTRY  \\\n",
       "0    Daniel Caspary,  Berichterstatter. – Herr Pr...  Germany   \n",
       "1    Daniel Caspary (PPE),  Frage nach dem Verfah...  Germany   \n",
       "\n",
       "                                      POLITICALGROUP     ID  \\\n",
       "0  Group of the European People's Party (Christia...  28219   \n",
       "1  Group of the European People's Party (Christia...  28219   \n",
       "\n",
       "                        NATIONALPOLITICALGROUP TRANSLATION  \n",
       "0  Christlich Demokratische Union Deutschlands         NaN  \n",
       "1  Christlich Demokratische Union Deutschlands         NaN  "
      ]
     },
     "execution_count": 8,
     "metadata": {},
     "output_type": "execute_result"
    }
   ],
   "source": [
    "# If language is English replace column Translation with the actual Content\n",
    "\n",
    "en_translation = []\n",
    "\n",
    "for idx in df.itertuples():\n",
    "\n",
    "    if idx.Language == 'EN':\n",
    "        txt = idx.Content\n",
    "        en_translation.append(txt)\n",
    "    else:\n",
    "        txt = idx.Translation\n",
    "        en_translation.append(txt)\n",
    "\n",
    "df['Translation'] = en_translation\n",
    "\n",
    "# Column names in capital letters\n",
    "df.columns = [x.upper() for x in df.columns]\n",
    "\n",
    "df.head(2)"
   ]
  },
  {
   "cell_type": "markdown",
   "metadata": {},
   "source": [
    "# Rag with Llama Index"
   ]
  },
  {
   "cell_type": "code",
   "execution_count": 1,
   "metadata": {},
   "outputs": [],
   "source": [
    "#df[~df['TRANSLATION'].isnull()]['LANGUAGE'].value_counts()"
   ]
  },
  {
   "cell_type": "code",
   "execution_count": 9,
   "metadata": {},
   "outputs": [],
   "source": [
    "# Do RAG only on Italian speeches translated in English\n",
    "tt = df[df['COUNTRY'] == 'Italy']\n",
    "\n",
    "g = \"\\n\\n\".join([x for x in tt['TRANSLATION'].dropna().tolist()])"
   ]
  },
  {
   "cell_type": "code",
   "execution_count": 10,
   "metadata": {},
   "outputs": [],
   "source": [
    "from llama_index import Document\n",
    "from llama_index import VectorStoreIndex\n",
    "from llama_index import ServiceContext\n",
    "from llama_index.llms import OpenAI\n",
    "\n",
    "document = Document(text=g)\n",
    "\n",
    "llm = OpenAI(model=\"gpt-3.5-turbo\", temperature=0.1)\n",
    "service_context = ServiceContext.from_defaults(\n",
    "    llm=llm, embed_model=\"local:BAAI/bge-small-en-v1.5\"\n",
    ")\n",
    "index = VectorStoreIndex.from_documents([document],\n",
    "                                        service_context=service_context)"
   ]
  },
  {
   "cell_type": "code",
   "execution_count": 11,
   "metadata": {},
   "outputs": [],
   "source": [
    "query_engine = index.as_query_engine(similarity_top_k=10)"
   ]
  },
  {
   "cell_type": "code",
   "execution_count": 38,
   "metadata": {},
   "outputs": [
    {
     "name": "stdout",
     "output_type": "stream",
     "text": [
      "('Pina Picierno, a Member of the European Parliament, made an emotional '\n",
      " 'speech. The topic of her speech was about the urgency of addressing violence '\n",
      " 'against women and the need for immediate action.')\n"
     ]
    }
   ],
   "source": [
    "YOUR_QUERY = \"\"\"\n",
    "\n",
    "    Which MEP made an emotional speech? What was the topic?\n",
    "\n",
    "\"\"\"\n",
    "\n",
    "response = query_engine.query(\n",
    "    YOUR_QUERY)\n",
    "\n",
    "pprint.pprint(str(response))"
   ]
  },
  {
   "cell_type": "code",
   "execution_count": 39,
   "metadata": {},
   "outputs": [
    {
     "data": {
      "text/plain": [
       "[\"Salvatore De Meo (PPE). - (IT) Mr President, ladies and gentlemen, with the proposal for the revision of the European Treaties, today we are starting to write a new important page in the history of Europe and of our institution.European integration is a step-by-step process which has been stalled for too long now, since the Treaty of Lisbon of 2007 which needs to be relaunched today with strength and conviction. Our proposal for a revision offers many ideas for a debate on the future of our Europe, starting with the need to strengthen our democracy through, for example, the recognition of Parliament's legislative initiative or the role of co-legislator on the budget, but we must also look at the role of the Union on the international stage and increase our credibility as a world player, through, for example, a European Defence Community. This report is only the beginning of a long and complex path that we hope the Member States will have the courage to undertake, putting aside prejudices and nationalisms, which must not be confused with national identities, which in fact find their recognition and strength in the European Union.\\n\\nSalvatore De Meo (PPE). - (IT) Mr President, ladies and gentlemen, the images of destruction, suffering and death caused by the worrying escalation of violence in the Middle East call for reflection. Peace is not built either by terror or violence. Hamas' very serious act of aggression has rekindled decades of conflict, territorial disputes and political complexity, creating a cycle of violence with devastating consequences. Peace in the Middle East requires a complex and demanding approach, involving international diplomacy and our Europe, to find a meeting point and encourage constructive dialogue as the only viable way for a just and lasting peace, in the interests of all the parties involved and of the global community as a whole. Let us reaffirm today with force our commitment to a solution of two peoples in two States, respecting the rights, security and dignity of one another.We must work tirelessly towards a future in which dialogue, understanding and respect replace conflict and violence. For, you know, the path of violence is a non-solution that has no winners, but only losers and many innocent victims.\\n\\nSalvatore De Meo, draftsman of the opinion of the Committee on Constitutional Affairs. - (IT) Mr President, ladies and gentlemen, 2024 will be the year of the European elections, and for this reason our budget must reflect the challenges we face, including the need to communicate more and better with citizens in order to raise awareness of the activities of the European Union, countering disinformation and breaking down the barrier that still exists between citizens and institutions today. The European Union is often perceived as an abstract and distant reality, despite taking decisions that impact every day on the lives of our citizens. We need resources to increase citizens' awareness of the importance of having a strong and cohesive Europe as the only solution to face a complex present and an ambitious future.And we need resources to implement the Conference on the future of Europe, where citizens have expressly asked us for a different and more concrete Europe, a Europe that is not afraid to question itself and also launch the delicate reform process of our treaties.\\n\\nSalvatore De Meo (PPE). - (IT) Mr President, ladies and gentlemen, I would like to remind you of the twenty-one people who tragically lost their lives in the incident in the city of Mestre, near Venice last night, a human tragedy, a European tragedy involving Ukrainian, German, French, Austrian, Spanish and Croatian citizens, as well as the driver of Italian nationality. A tragedy before which we can do nothing but cling to the families of the victims and the wounded, including several children. A special and sincere thank you allow me to do so to the many rescuers who intervened promptly on a scenario defined by themselves apocalyptic. I join the words already expressed by President Metsola, whom I thank, and I express with sincere condolence the condolences of this Parliament to all the families involved, asking all colleagues to join in this moment of mourning.\\n\\nSalvatore De Meo (PPE). - (IT) Madam President, ladies and gentlemen, it is also clear from the debate how it is necessary to reduce the use of pesticides, but this objective can only be achieved if we imagine a gradual programme and sensitive farmers to responsible and moderate use.That is why I believe that it is necessary to accompany this proposal with the principle of reciprocity and to make sure that products are not imported into Europe from third countries which, on the other hand, make disproportionate and improper use of cesium even in the pre-harvest phase, which would put the health of our consumers at risk and would also cause competition harm.\",\n",
       " \"I think we cannot turn our heads, we must fight for women and we absolutely cannot remain silent.\\n\\nSilvia Sardone (ID). - (IT) Mr President, ladies and gentlemen, the situation in Kashmir was difficult even before, there are situations of violence known over the years. I find this debate somewhat unbalanced: I think that dialogue takes place not by attacking one side or expressing itself in favour of the other. We are talking about a region of the world where there have been terrorist groups linked to Islamic extremism for a long time, where there are phenomena of radicalisation absolutely worrying. In this area, flags of ISIS have been seen and there have been violence for too long. Then perhaps we should analyse the historical context, base ourselves on really authoritative sources and information and, in general, support those who fight terrorists. Hundreds of thousands of Indians, since the 1990s, have left this region because of the violence. I wonder why we should not discuss the many victims of attacks and clashes and why we are not talking about the threats and religious discrimination carried forward by Pakistan.In general, I think that we, as a Europe, should respect the sovereignty of states and respect and be close to those who carry out security measures to combat terrorist phenomena.\\n\\nSilvia Sardone (ID). - (IT) Madam President, ladies and gentlemen, I am addressing President Sassoli even though, despite her role as President of Parliament, she is now not present in this House, but I have listened carefully to her statements since the beginning of her installation and I must say that I have taken up a real obsession with immigration. She said before being in favour of NGOs, without considering the fact that they facilitate, in fact, the boatmen; she said that it is necessary to welcome immigrants, without considering that most of them, those who enter Italy, are illegal and have no right to be accepted; she attacked the policy of closed ports, after years when Italy, thanks to the left, became the refugee camp of all Europe. By the President I would have expected more moderation, not a pro-immigration typhus without any restraint.The same attitude, I must say, I have seen on the part of the President of the Commission, I have only heard goodness, empty words, commercials, after years of absolute nothing on the part of Europe. We simply want a Europe less focused on talking about fake integration and more focused, instead, on defending its borders, exactly as Salvini does in Italy. I conclude by saying that we are tired of a Europe that has criticized Italy for months and has not helped our country at all. (The President takes the floor to the speaker)\\n\\nSalvatore De Meo, draftsman of the opinion of the Committee on Agriculture. - (IT) Madam President, Commissioner, ladies and gentlemen, tomorrow's vote on the packaging regulation risks calling into question the credibility of the European Union. We all want a more sustainable Europe, where there are fewer packaging, but we cannot forget that this same Europe for years has asked for and supported research and innovation for recycling, has raised awareness, stressed and trained citizens to differentiated and today, suddenly, changes direction, proposing a system of re-use, without considering the extraordinary results achieved in recycling, which can and must remain a parallel road to continue to have credible sustainability from an environmental, social and economic point of view.Packaging is not only a problem but in many cases also a guarantee: let us think about the world of food, where we can consume fresh, healthy and above all safe food, helping to reduce waste. If the text were to pass, without the changes, entire production chains would be destroyed, with dramatic consequences for producers and consumers. I appeal to everyone to prevail common sense, to show a Europe in which political choices and environmental strategies are consistent, credible and above all pragmatic in the interests of citizens.\\n\\nSalvatore De Meo (PPE). - (IT) Mr President, ladies and gentlemen, with the proposal for the revision of the European Treaties, today we are starting to write a new important page in the history of Europe and of our institution.European integration is a step-by-step process which has been stalled for too long now, since the Treaty of Lisbon of 2007 which needs to be relaunched today with strength and conviction. Our proposal for a revision offers many ideas for a debate on the future of our Europe, starting with the need to strengthen our democracy through, for example, the recognition of Parliament's legislative initiative or the role of co-legislator on the budget, but we must also look at the role of the Union on the international stage and increase our credibility as a world player, through, for example, a European Defence Community.\",\n",
       " \"Pina Picierno, on behalf of the S&D Group. - (IT) Madam President, ladies and gentlemen, thanks to the rapporteurs for the excellent work she has done, thanks also to Commissioner Dalli, because she is working so hard on this issue, I am thinking of the work we are also doing on the directive against violence, but today we are here to discuss, once again, let me say something that has not happened in this House: it has been six years since the signing of the European Union to the Istanbul Convention, and in six years, we know that because we have talked about it so many times, even in this House, in six years there have been thousands of women who have been victims of violence. You have said it, the rapporteurs have said it. One out of three women in our territory, in the European Union, are victims of violence every six hours.We do not stop repeating it, we do not stop remembering it, every six hours in our territory a woman is a victim of violence. And these women talk about each one of us, because all of us, directly or indirectly, we have had experience of that violence. Yet, in six years we do not see the end of this ratification and we cling, let me tell you, to every quirk. And while the feminicides, the harassment, the violence continue inexorably. And then, once again, for the umpteenth time, we are here to ask aloud, with this resolution, that things go forward, without losing time, without fear, because there is no more time, because there is no more time. We have no more.Women die not because of a natural tragedy, even this I do not stop repeating, it is not an earthquake, it is not a flood, women die because they are killed and are killed by criminals, by criminals who must be stopped, who prevaricate the victims. And then we can use... I think the translation does not work. (The President interrupts the speaker because of technical problems)\\n\\nPina Picierno, on behalf of the S&D Group. - (IT) I hope that the technical problem has now been resolved and so I will start again with my speech. I would like to thank the rapporteurs for the excellent work they have done and Commissioner Dalli for the important work we are doing together in the FEMM Committee. There is another important dossier concerning violence, the long-awaited directive on which we are working a lot. This debate tastes a bit like something that had to happen some time ago and that has not been achieved because the rapporteurs have mentioned it and I want to say that it has been six years, almost six years, since the signing of the European Union to the Istanbul Convention and in six years there have been indeed thousands, thousands of women victims of violence.You have mentioned this, we have mentioned it many times in this House: one in three women in our territory of the Union is a victim of violence every six hours, every six hours in our territory of the Union a woman is a victim of violence, as we have so many times in this House that these stories, which these women speak of each of us, because each of us, directly or indirectly, has had experience of what violence is and how violence is recognised, and yet in six years, despite everything that has happened, we have not yet succeeded in achieving this ratification and we have been clinging to every quibble, every quirk, legal and not. And while the feminicides continue, harassment continues and violence continues under everyone's eyes.And then what I want to say here again is that it is not a flood, it is not a natural tragedy, it is not an earthquake, women do not die because of a natural tragedy, they die because of crimes, because they are killed by criminals and they are prevaricated by criminals, and then, compared to all this, we have a duty to react. This House, this Parliament, there is, but everyone has to do its part and ratification of the Istanbul Convention is one of the tools that we can and must have in order to eliminate this ignoble form of prevarication.\\n\\nPresident. - Thanks to the rapporteur and all the speakers, the debate is closed and the vote will take place on Tuesday 14 February 2023. Written statements (Rule 171)\\n\\nPresident.\",\n",
       " 'Alessandra Moretti, rapporteur. - (IT) Mr President, ladies and gentlemen, I really want to thank all my colleagues for their support, for their contribution and for the proposals that have improved the initial text.\\n\\nAlessandra Moretti (S&D), question \"blue card.\" Since the honourable Member has just said that the Istanbul Convention is not at all useful as a means of combating violence against women, I would like to know from his colleague which, in his opinion, would be the most effective instrument.\\n\\nAlessandra Moretti (S&D). - (IT) Madam President, ladies and gentlemen, when I am with so many women, I think that, according to the data, one of them in three has suffered physical or sexual violence, often at the hands of a close person, perhaps a family member. Those who photograph the situation of women are frightening numbers. Violence against women is a violation of human rights that we can no longer tolerate. Preventing these violence, protecting victims and prosecuting authors is an act due to the 150 million girls who every year suffer rape or sexual violence in the world. The Istanbul Convention represents the first legally relevant international instrument, ratified by the majority of European States, and what we are doing today is a decisive step, but not enough.The convention must be accompanied by a strong cultural policy that takes place first of all within schools with the education of sexuality and sexual health, in order to grow women and men capable of respecting themselves, capable of being respected, capable of defending their own health. We must grow a generation emancipated by violence, a society where everyone feels safe, free to be himself, without fear of harassment, abuse, discrimination.\\n\\nAlessandra Moretti (S&D). - (IT) Madam President, ladies and gentlemen, a few days ago, after months of drought, violent rains fell on Emilia Romagna and in just 36 hours it rained a fifth of the total amount of water that normally falls in a year. Two people have lost their lives, 500 have had to leave their homes to escape the fury of the floods. We often say this in this House, President, drought and floods are two sides of the same coin, they are catastrophic events that mark the pace with which climate change marches and we need concrete actions and forward-looking strategies to address these challenges. We need to make the best use of European resources, such as the European Regional Development Fund, to prevent risks, to secure our fragile territories against the geo-hidrological disaster.Finally, Mr President, I hope that European authority will finally convince the world\\'s superpowers to invest in the fight against climate change, because we cannot do this on our own.\\n\\nAlessandra Moretti (S&D). - (IT) Mr President, it is a tragic collapse that we are witnessing in Afghanistan with regard to women\\'s rights. In just over a year Afghan women have been dismissed from their jobs and disbarred from administrative roles, they have been forbidden to do sports and buy contraceptives, they have been driven away from high schools and universities, preventing them from building a dignified future. To ban girls from access to education is a violation of human rights. It means to deny all hope to millions of young people. But not only, these criminal norms endanger the lives of women. Just think about their health: Afghans cannot be visited by men doctors but, if women are not allowed to study medicine, to whom they can turn? I ask the European Commission to support organizations that, with great efforts, try to offer alternative services for the education of young Afghans.I also call on all the European institutions and the Member States to put pressure on the Taliban to respect human rights. Culture, knowledge and skills are the only tools that can enable the Afghan people to recover from the economic and environmental crisis and the food emergency that holds the country hostage, and the contribution of women, here too, is crucial.\\n\\nAlessandra Moretti, on behalf of the S&D Group. - (IT) Mr President, ladies and gentlemen, a tuft of hair escapes the veil and a woman in Iran is killed; a ballet and five girls are arrested; a day behind the school bench and the students are poisoned; we can no longer tolerate violence that aims to deprive girls of the right to their future. Thousands of students have been victims of chemical weapons in these months, a terrible and cowardly crime. Chemical weapons used in schools that represent the place par excellence of emancipation. The Nobel Prize, Shirin Ebadi, addressed this House today, was clear: don\\'t turn on the other side.I want to say to Mrs.',\n",
       " 'And we are still talking, but what are we talking about?\\n\\nPietro Bartolo (S&D). - (IT) Madam President, ladies and gentlemen, today we, Italy, pay the highest tribute with the barbaric killing of Ambassador Luca Attanasio and the Carabiniere Vittorio Iacovacci, but before us the same tragedy has experienced so many other people who have given their lives for the good of the country. Above all let us not forget the thousands of women, men and children massacred every day in one of the most rich areas of natural resources in the world. Innocent victims of a war for the savage exploitation of resources from which the Congolese population has never benefited. In Congo words such as peace, health and education are a privilege for very few. Ambassador Attanasio knew well the origins of Congolese instability, he was aware of the danger of his work but he also knew that what he was carrying on was a mission, putting peace and law at the service of the Congolese people.And we have a duty to follow his example, it is necessary to shed light on the barbaric killing, asking for justice for this heinous massacre, putting an end to the impunity of those who are guilty of such crimes and above all contributing to the stability of the Congo that, as Ambassador Attanasio himself said, \"is a nation thirsting for peace, after three wars lasted for twenty years.\" Let me finally express my deepest condolences to the relatives of the victims, to the diplomatic corps and to the Arm of the Carabinieri.\\n\\nPietro Bartolo (S&D). - (IT) Madam President, ladies and gentlemen, Commissioner, yesterday were the images of the arrival of the Italian Red Cross in Bosnia. They brought blankets and groceries to alleviate the suffering of thousands of people forced to sleep on the ground, on the snow, and to stand in line for a piece of bread and canned food. We watch it sitting in the heat, in our comfortable seats. Do we not feel ashamed? How dare we wash our conscience and think to discharge our responsibilities by sending only more money? We cannot turn Bosnia into a buffer zone where thousands of people are trapped. We cannot close our eyes to the rejections at the borders and the reintegrations in chains that prevent access to international protection. We cannot allow a European agency like Frontex to become complicit in illegal, illegal action. This is not the solidarity we want.The Member States commit themselves to relocating these people, and do so immediately, before it is too late, and the Commission will ensure full respect for rights, which are the same in both the European Union and its borders.\\n\\nPietro Bartolo (S&D). - (IT) Mr President, ladies and gentlemen, have you seen the burned camp of Moria? A runaway child asked her father: \"Will we die?\" What can a father answer? What do you want a father to answer? But we must respond, with extreme harshness. The sad spectacle that Europe is offering is unacceptable: a sad spectacle! A moral and political imperative obliges us to ask, now and immediately, for the immediate evacuation of the camp and the acceleration of the relocation from the islands to the Member States, in particular the most vulnerable children. Well that Merkel is committed to welcoming 2750 people from the islands: but we need a change in the asylum system. Let us be clear: on the eve of the pact on the migration of the Commission, I say to the governments that the credibility of the institutions is played here.We need to change the rules: we need a compulsory solidarity mechanism that provides for automatic relocation and sanctions for those who do not respect it. We do not need to build new camps, we do not need them! We need structural reforms, and we need them now, not in decades\\' time.\\n\\nPietro Bartolo (S&D). - (IT) Mr President, ladies and gentlemen, I address this House in a situation that is not the usual one, of course. Europe is experiencing a difficult time, but we must continue to work and we must do so also for those who are on the border between Turkey and Greece and for those who have been trapped in the Greek islands for months, sometimes even for years, and it was the selfishness of our Member States that caused all this suffering, that led children to self-harm and even suicide. We need immediate solidarity measures with those who are stuck there. We do not need to defend our borders but instead we need to establish an emergency relocation mechanism, first and foremost with unaccompanied minors.It is not conceivable to leave children in those conditions! We must be close to Greece, of course!',\n",
       " \"- (IT) Mr President, ladies and gentlemen, we were not ready for a new conflict on our doorstep, we were not prepared to face the consequences of a brutal attack, the indiscriminate attacks on civilians, including children, many children. We were not prepared even to welcome millions of people on the run. But this time, at least, the Union is demonstrating unity and solidarity. Countries traditionally opposed to the reception today have opened their doors. What I would like is for there to be no discrimination and for those doors to remain open for anyone seeking protection. This is the moment of a turning point, we are starting from this unity that we have managed to create to finally reform our asylum system, to create a system that can withstand present and future crises as well.Today, precisely those countries that until yesterday did not want to welcome demand solidarity and it is right that they receive it, because the responsibilities must be shared. And I take back the words of Commissioner Johansson, who I repeat: we are all, and I say all, white, black, yellow, Christian and Muslim, we are all human beings, from whatever part of the world they come from.\\n\\nPietro Bartolo (S&D). - (IT) Mr President, Vice-President Schinas, ladies and gentlemen, the desperation of these people trapped as animals on the border with Belarus I saw with my own eyes, a few weeks ago with my colleagues Benifei and Majorino we were there, just as we have seen episodes of violence by the Polish authorities. I expected words of condemnation against Member States that reject, mistreat and deny the rights of these people. Instead, only words of unconditional support for these states that, faced with the Belarusian threat, are deplorably using people as instruments of their political game. Activation of Article 78.3 and measures that further harm unarmed people put at risk access to international protection and appalence our weaknesses and our fear of migrants and asylum seekers.Let the Commission take courage and truly take on the role of defender of the treaties in favour of solidarity. May it act in defence of the Charter of Rights that is constantly being trampled on today. May it finally act in defense of people, dear President, people, not enemies. They are not enemies, they are people, they are enemies.\\n\\nPietro Bartolo (S&D). - (IT) Mr President, ladies and gentlemen, with this report, Parliament will finally give an important signal: we can adopt a different approach to migration, a forward-looking approach aimed at maximising the benefits of this phenomenon and not, as usual, aimed at combating it. We lay the foundations for a secure and orderly management of migration, creating legal channels for those seeking work in the European Union and thus removing people from the hands of traffickers and exploiters, but let us not confine ourselves to highly skilled workers. The pandemic has shown with force that foreign workers make an essential contribution to our economy in key areas and that there is a very high demand for labour even in the less skilled sectors. We are an ageing continent, that needs young people and that can grow not only from the economic point of view but also through social emigration.Let us remember, however, to always put the rights of people at the centre, which must be protected from any form of exploitation.\\n\\nPietro Bartolo (S&D). - (IT) Mr President, ladies and gentlemen, I assume that Lukashenko's action is obviously to be condemned without and without but. President Charles Michel has announced the opening of a debate on the financing of physical barriers against migrants: but what do we have to discuss? We are talking about immoral actions, before they are illegal. They continue to talk about hybrid war against the European Union: for me it is very clear that people must not be exploited, but we absolutely do not play their game! Let us put first the respect of people: they are human beings and not enemies to defend ourselves from; we are talking about people who are rejected in a violent and brutal way; people who are massed at our borders, left in the cold without food and care; people who are not allowed to ask asylum.I have no other word but one: shame! Shame! 15 000 policemen have been deployed against innocent, helpless and disarmed people. We were not even at war! Stop talking about war, we are talking about humanitarian emergency and let us be worthy of the founding values of this Union: a Union without walls, a Union of rights, a Union without hatred!\\n\\nPietro Bartolo (S&D). - (IT) Madam President, Commissioner, ladies and gentlemen, in the first nine months of the year more than ten thousand people have been killed by the rejections, among these many children.\",\n",
       " 'We often talk about freedom, justice, gender equality, but we cannot guarantee them even here at home. Unfortunately, even today, not all the Member States of the European Union have ratified the Istanbul Convention. Even today, in our eyes, thousands of women and children are victims of trafficking in human beings, they are sold as slaves, killed or forced to prostitute themselves. Even today, in some Member States, prostitution is legalized and is seen as a simple job. Even today, there are women out there who can\\'t even report their torturers, as happened to young Anna Borsa, who, unfortunately, after many attacks, was killed a few days ago in Italy by the former boyfriend with a gun illegally held.His only fault was that he interrupted a relationship with a person who was obviously sick. Because sometimes he lives in small centres, where everyone knows each other and becomes difficult psychologically, because society still blames you. Many women unfortunately are not yet aware of their rights, their own value and their own strength. Our task is to take them by the hand, offering them the moral and material help they need, to give them hope, to push them to fight and not to give up. Only joint action promoted at every political level and in concert with civil society can really set in motion that change on paper very often already happened but that fails to see the light in everyday life.\\n\\nIsabella Adinolfi (PPE). - (IT) Mr President, ladies and gentlemen, peace, right, respect for every human being, when we are young, we think that we all have these positive principles within us, but when you are an adult, you realize that there is good and there is evil. Today I want to use very simple and understandable words for all those who are listening to us. The Istanbul Convention is \"the first legally binding international instrument that creates a complete legal framework to protect women from any form of violence.\" So the Istanbul Convention is a treaty, and the treaties must first be signed and then ratified by the States, so that States are bound to respect these treaties. In this Convention we talk about very simple concepts.It is said that states should include in their criminal codes a series of crimes committed against women: psychological violence, sexual violence, stalking, physical violence, rape, forced marriage, genital mutilation, forced abortion, forced sterilization, sexual harassment, and yet there are countries of the European Union that believe that it is not an act of civilisation to ratify the agreement. European citizens and citizens, women, fathers, today you have to ask your governments and your politicians who represent you: why? Why is it difficult to put our faces against sexual violence or genital mutilation? Why is it difficult to put our faces against forced marriage or rape? The task of politicians is to make decisions and represent democracy. And then I want to know why there are countries of the European Union that are omertous to this treaty and whether these countries truly represent the values of the European Union.\\n\\nIsabella Adinolfi (NI). - (IT) Madam President, ladies and gentlemen, vaccines are a common good and not a bargain for a few. To return to normal life, to restart our economy, we need vaccines. Pharmaceutical companies have obligations to the community even before their shareholders. We have been waiting for months to receive our dose to allow us to return to normal life: yet, even today, we find that AstraZeneca would hide 29 million doses ready to be sold to the highest bidder. European leaders demonstrate with the facts that a stronger, fairer and more supportive Europe is being born from this pandemic, since while we are talking here millions of citizens have lost their jobs and loved ones. I wonder, what are we waiting to suspend licences and start an autonomous and timely European production, so that we can guarantee all vaccines?We cannot bend before the pharmaceutical companies: the health of millions of citizens, whom we represent here, must be our only concern.\\n\\nIsabella Adinolfi (NI). - (IT) Mr President, ladies and gentlemen, Commissioner, at the moment I am saying that there is an unbreakable fracture between two worlds. On the one hand, we have the children who join the humanistic faculties, as I did at the time, at the academies of art, at the conservatives to cultivate a talent or because they are fascinated by history, beauty and art.',\n",
       " 'Massimiliano Smeriglio (S&D). - (IT) Madam President, Commissioner, ladies and gentlemen, what has happened is a serious fact. The act of machista violence is an abuse of power, the plastic demonstration of how patriarchal culture is still present in sport. Just think of the latest abuses in the world of female football by coaches. Unfortunately it is a widespread phenomenon: one in seven below the age of 18 states that he has suffered sexual abuse, violence and harassment, often at the hands of coaches. But discrimination against athletes has multiple forms. We are taking steps forward: they are directly doing the protagonists. The inhibition of Rubiales is an important first fact. But politics cannot stop at repression alone: we must build territorial networks that encourage denunciation and ensure the protection of women victims of abuse and harassment.It is important to invest in processes of awareness of men and in projects of sentimental education. Women are not objects or trophies to be exhibited as a sign of power: consent is the only criterion that applies, in sport as in the rest of society.\\n\\nMassimiliano Smeriglio, on behalf of the S&D Group. - (IT) Mr President, Commissioner, ladies and gentlemen, books have always been a means of free expression, the lenses to learn more about the world and to learn and transmit knowledge. The book sector is made up of a myriad of subjects that must be supported: authors, publishers, translators, readers, up to the booksellers. The booksellers, in particular, are valuable professional figures to introduce and approach reading. I would like to recall the importance of independent bookstores, often victims of shameful acts of intimidation. Moreover, these bookstores suffer the difficulties of the market without receiving any public support. These places are pillars of our local communities: keep them alive, promote cultural initiatives and often become a meeting point, socialization and aggregation.It is important to make early: to create a European label for independent libraries to increase their visibility, promote diversity and play a central role in the value chain and the dissemination of knowledge.\\n\\nMassimiliano Smeriglio (S&D). - (IT) Madam President, ladies and gentlemen, the mission to Cuba of the High Representative was an important event. Visiting Cuba means shortening distances with the Cuban people, strengthening European strategic autonomy, defending continental interests, since the European Union is the first trading partner in the Caribbean island\\'s cooperation. An act of sovereignty in line with European positions against the US economic bloc and against the integration of Cuba among the countries that promote terrorism. We must implement the relations, as provided for in the 2016 agreement. We must work on an autonomous European agenda capable of identifying in the region all the actors interested in strengthening diplomatic, political and commercial exchanges, respecting rights, the rule of law and self-determination of the peoples. We have the responsibility to better prepare the EU-CELAC Summit in July. The trip to Cuba and the meeting with President Díaz-Canel have been important steps in the right direction.\\n\\nMassimiliano Smeriglio, on behalf of the S&D Group. - (IT) Mr President, Commissioner Schmit, in 2020 more than 850 000 cultural objects have been seized globally, including paintings, sculptures, archaeological objects and book materials. More than half of these objects have been seized in Europe. These data conceal a large problem, because many cases are not yet identified. Cultural goods are of enormous importance from an artistic, historical and scientific point of view. Illegal trafficking can have a devastating and irreversible impact on cultural heritage, because it destroys parts of our collective memory and deprives citizens of evidence of its history. Among the actions proposed by the action plan I believe that the promotion and strengthening of international cooperation is fundamental, especially with third countries, as this crime is a cross-border crime. European action cannot be limited within the borders of the Union, but must go beyond that.For this reason, the Commission should respond to requests from third countries as well. As, for example, the establishment of a political dialogue at ministerial level to promote the protection of cultural heritage from illegal activities. Countries such as Italy have been recognised as examples to follow in this area, it suffices to think that Italy was the first country in the world to establish and make available to UNESCO the task force of the \"blue helmets of culture.\" Similarly, many Latin American countries are progressively strengthening their policies of protection against the sale of archaeological finds. A high-level political dialogue would allow a fruitful exchange, with the aim of facilitating and strengthening international cooperation even more. There are still weak points in the data collection.Some states not only do not have specialized units, but also lack national databases dedicated to the registration of stolen and related works of art in Interpol.',\n",
       " \"But here, in the house of democracy, we wanted to add our voice to that of the thousands of women who have denounced cases of violence and abuse. It is important, ladies and gentlemen, to make the voice of the European institutions heard loud and clear in support of all those who, with their complaints, have opened a debate that is absolutely necessary.Then let's say it together, loud and clear, MeToo!\\n\\nPina Picierno (S&D). - (IT) Madam President, Commissioner, ladies and gentlemen, violence has ancient roots, but it has unprecedented forms in which it manifests itself and these unprecedented forms require all of us and our strategies to renew ourselves, to find new paths. The forms through which violence is manifested change over time and today can avail themselves of the help of new technologies and virtual space, but all this has very concrete, very serious consequences on the lives of women and, in general, on the lives of people. The many cases of revenge porn and in general of intimidation and harassment that are exercised through Facebook, through Twitter, through messaging apps, through virtual space have shown that the amplifier effect is devastating. We know of women who have taken their lives for all this, others have been forced to change their names.Not taking care of all this means leaving women even more alone dramatically, and that is why this Parliament is being called upon to respond now.\\n\\nPina Picierno, on behalf of the S&D Group. - (IT) Mr President, ladies and gentlemen, Commissioner, one victim every six hours in Europe, every six hours, these are numbers, stories, which speak of each of us, they speak of each of us, because each of us, directly or indirectly, has had experience of that violence. Regardless of our social condition and our religious belonging, our condition of life because, whether it is physical or psychological, it is implicit or brazen, as is often the case, violence goes through all our lives and remains an unbearable, unbearable limit, our dignity, our freedom and, ultimately, our life. And so, Commissioner, President, we have to ask ourselves today: is this emergency at the top of the priorities of the European institutions and this Assembly?It is enough to consider that we have not yet been able, for example, to ratify the Istanbul Convention, which is a minimum instrument. We should go far beyond, far beyond, and neither have we been able to do so. We are hostage to unliberal and anti-democratic governments, which continue to block even the minimum measures that would be needed to protect women and not to transform this day only on the umpteenth day of remembrance of the victims. It cannot only be this. We need to go further, we need to give answers to those women. There is no more time, we have no more time. Women die killed at the hands of men, who are comrades, former comrades and husbands.It is not a natural tragedy, ladies and gentlemen, it is not a flood, it is not an earthquake! They are crimes, which are carried out by men, in the name of a precise culture called patriarchy, and which we, from here, starting here, must reverse and defeat.\\n\\nPina Picierno (S&D). - (IT) Madam President, ladies and gentlemen, today we leave behind a long job, as has been said, a complex job, a difficult job, but also a long-awaited job, which has led to a comparison in these three long years of work positions very different, even very distant, to reach what I think is a satisfactory balance, which we deliver today to the citizens of Europe. Let us, ladies and gentlemen, I want to be very honest with you: everything can always be improved, everything can always be improved, you can always do better. But I believe that intellectual honesty must make us recognize, this morning, here, that the text that we are about to approve will deliver important innovations to European agriculture.Intellectual honesty must make us recognize that the point of arrival of this work is very far from the point of departure, because a great deal has been improved thanks to the work, let me say it with pride, especially of Parliament, which has always worked to maintain the bar of the highest ambition, which it has fought, we have fought, sometimes we have also clashed with the Commissioner knows it with the Council and with the Commission so that the expectations of farmers, of our farmers, are not betrayed, and then today we approve a good text, a text that I believe must make us proudly recognize the results we have achieved. We have avoided renationalisation, it was a concrete risk.\",\n",
       " 'Dear colleague, ladies and gentlemen, as you can see, we have been debating for so many years now for the ratification of this convention, we have never gone back. I, personally, have never pulled back and you can see this with the recordings of the European Parliament. That said, you can\\'t tell someone, a little girl who has been raped or someone who is killed, you can\\'t say that you have to make a diversification between colors, because this happens. In Italy a little girl has been brutally killed because she didn\\'t want to get married and on this we can\\'t do the radical chic. Politics is not radical chic, politics is protecting citizens, protecting women and protecting the defenceless. We are here for this and I do not do the politics of radical chic chics.(The speaker refused a question \"blue card\" by Alice Kuhnke)\\n\\nIsabella Adinolfi (PPE). - (IT) Madam President, ladies and gentlemen, some of us have been calling loudly for years to ratify the Istanbul Convention. After the Court of Justice\\'s green light, there is no longer any excuse for not carrying out immediate ratification by the Council. The criticism of this Convention is ridiculous, as is the request for the Polish Prime Minister to examine constitutionality. The Convention simply lays down minimum standards for governments in the prevention, protection and condemnation of violence against women and domestic violence. All things I think are more than normal. Failure to ratify some countries is a slap in the face of all the abused women, this European Union and the values we represent.As the European Union today, we have two choices: to ratify the Istanbul Convention and to have all the tools to combat violence against women, saving thousands of lives, or to turn on the other side, hiding a little bureaucracy behind us.\\n\\nIsabella Adinolfi (PPE). - (IT) Mr President, ladies and gentlemen, we are in 2023, but we are still far from achieving gender equality, and I agree that the gender gap in some sectors is predominant and that we need to intervene forcefully and far-sightedly, and that access to education and digital skills must be the priority, because they are essential instruments for women to achieve economic independence or create their own business activity; there is no freedom unless they have their own economic independence; the digital divide often results in less awareness of the dangers that can be encountered on the net; it must be a priority to combat violence and abuse that is consumed online and the weapons that we have often are too few.However, in the field of education and training we must not only focus on policies that improve access to science, technology, engineering and mathematics, but also invest in the fields of art and creativity. Only the synergy between the various fields of knowledge allows a fulfilling development of the person. Beyond the body and mind must also be nourished the soul.\\n\\nIsabella Adinolfi, on behalf of the Group of the European People\\'s Party. - (IT) Mr President, ladies and gentlemen, we are rewriting the priorities of the European cultural agenda. As you can imagine, the topics are many and different.It is our task to protect and protect our European artistic heritage. To this end, I hope that this chamber will vote tomorrow on our amendment for the protection of artistic and cultural heritage, which provides, where necessary, exemptions for the cultural sector from the prohibitions on the use of certain materials. It may seem like a legislative quirk, but it depends not only on the integrity of our historical cathedrals, our colored Murano glass, our hand-painted ceramic bells and which are renowned all over the world, but also on the families of artisans and restorers, to whom the use of the tools of their work is increasingly and with indifference is forbidden. In this period of wars and catastrophes we cannot allow ourselves to put at risk our European cultural heritage, part of our identity and which, once lost, will be lost forever.\\n\\nIsabella Adinolfi (PPE). - (IT) Madam President, ladies and gentlemen, the cases of violence against women do not mention decreasing. In my city in recent days a woman has been stabbed by her husband and another has been seriously injured because her husband has always set her on fire. This news is on the agenda in all the countries of the European Union, because hatred and violence do not know borders, they have no difference in age, they have no difference in social extraction, they have only victims. Now, for the first time in the history of the Italian Republic, we have a President of the Women\\'s Council. And what happened? That after a few days she was nominated she had to fly to the G20 and was very attacked. Why was she attacked? For her political ideas? For the words she said?']"
      ]
     },
     "execution_count": 39,
     "metadata": {},
     "output_type": "execute_result"
    }
   ],
   "source": [
    "[x.text for x in response.source_nodes]"
   ]
  }
 ],
 "metadata": {
  "kernelspec": {
   "display_name": "Python 3",
   "language": "python",
   "name": "python3"
  },
  "language_info": {
   "codemirror_mode": {
    "name": "ipython",
    "version": 3
   },
   "file_extension": ".py",
   "mimetype": "text/x-python",
   "name": "python",
   "nbconvert_exporter": "python",
   "pygments_lexer": "ipython3",
   "version": "3.11.4"
  },
  "orig_nbformat": 4
 },
 "nbformat": 4,
 "nbformat_minor": 2
}
