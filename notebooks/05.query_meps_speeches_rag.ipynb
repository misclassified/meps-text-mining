{
 "cells": [
  {
   "cell_type": "code",
   "execution_count": 14,
   "metadata": {},
   "outputs": [
    {
     "name": "stdout",
     "output_type": "stream",
     "text": [
      "The autoreload extension is already loaded. To reload it, use:\n",
      "  %reload_ext autoreload\n"
     ]
    }
   ],
   "source": [
    "%load_ext autoreload\n",
    "%autoreload 2\n",
    "\n",
    "import pprint\n",
    "import pandas as pd\n",
    "import yaml\n",
    "import os\n",
    "\n",
    "import sys \n",
    "sys.path.append(\"../src\")\n",
    "\n",
    "from llama_index import SimpleDirectoryReader\n",
    "from transformers import AutoTokenizer, AutoModelForSeq2SeqLM\n",
    "\n",
    "from utils import join_csv_files, split_text_into_chunks"
   ]
  },
  {
   "cell_type": "code",
   "execution_count": 9,
   "metadata": {},
   "outputs": [],
   "source": [
    "from dotenv import load_dotenv, find_dotenv\n",
    "import openai\n",
    "\n",
    "# Load Environment Variables\n",
    "_ = load_dotenv(find_dotenv())\n",
    "openai.api_key = os.getenv(\"OPENAI_API_KEY\")"
   ]
  },
  {
   "cell_type": "code",
   "execution_count": 10,
   "metadata": {},
   "outputs": [],
   "source": [
    "with open('../config/config.yaml', 'r') as file:\n",
    "    config = yaml.safe_load(file)"
   ]
  },
  {
   "cell_type": "markdown",
   "metadata": {},
   "source": [
    "# Get Data"
   ]
  },
  {
   "cell_type": "code",
   "execution_count": 6,
   "metadata": {},
   "outputs": [],
   "source": [
    "base_directory = os.path.dirname(os.path.abspath(os.getcwd()))\n",
    "\n",
    "# Speeches Paths\n",
    "input_path = os.path.join(config['meps_speeches_dataframe']['output_dir'], config['meps_speeches_dataframe']['filename'])\n",
    "input_path_tr = os.path.join(config['meps_speeches_en_translation']['output_dir'], config['meps_speeches_en_translation']['filename'])\n",
    "input_meps_list = config['meps_list']['output_dir']\n",
    "\n",
    "# Speeches Dataframe\n",
    "speeches = pd.read_csv(os.path.join(base_directory, input_path))\n",
    "translations = pd.read_csv(os.path.join(base_directory, input_path_tr), sep = '|', names = ['Url', 'Translation'])\n",
    "\n",
    "# Join Speeches to translations and add metadata\n",
    "df = pd.merge(speeches, translations, on = 'Url', how = 'left')"
   ]
  },
  {
   "cell_type": "code",
   "execution_count": 7,
   "metadata": {},
   "outputs": [
    {
     "data": {
      "text/html": [
       "<div>\n",
       "<style scoped>\n",
       "    .dataframe tbody tr th:only-of-type {\n",
       "        vertical-align: middle;\n",
       "    }\n",
       "\n",
       "    .dataframe tbody tr th {\n",
       "        vertical-align: top;\n",
       "    }\n",
       "\n",
       "    .dataframe thead th {\n",
       "        text-align: right;\n",
       "    }\n",
       "</style>\n",
       "<table border=\"1\" class=\"dataframe\">\n",
       "  <thead>\n",
       "    <tr style=\"text-align: right;\">\n",
       "      <th></th>\n",
       "      <th>MP</th>\n",
       "      <th>DATE</th>\n",
       "      <th>LANGUAGE</th>\n",
       "      <th>TITLE</th>\n",
       "      <th>URL</th>\n",
       "      <th>CONTENT</th>\n",
       "      <th>COUNTRY</th>\n",
       "      <th>POLITICALGROUP</th>\n",
       "      <th>ID</th>\n",
       "      <th>NATIONALPOLITICALGROUP</th>\n",
       "      <th>TRANSLATION</th>\n",
       "    </tr>\n",
       "  </thead>\n",
       "  <tbody>\n",
       "    <tr>\n",
       "      <th>0</th>\n",
       "      <td>Daniel CASPARY</td>\n",
       "      <td>2023-11-21</td>\n",
       "      <td>DE</td>\n",
       "      <td>EU/New Zealand Free Trade Agreement (debate)</td>\n",
       "      <td>https://www.europarl.europa.eu/doceo/document/...</td>\n",
       "      <td>Daniel Caspary,  Berichterstatter. – Herr Pr...</td>\n",
       "      <td>Germany</td>\n",
       "      <td>Group of the European People's Party (Christia...</td>\n",
       "      <td>28219</td>\n",
       "      <td>Christlich Demokratische Union Deutschlands</td>\n",
       "      <td>NaN</td>\n",
       "    </tr>\n",
       "    <tr>\n",
       "      <th>1</th>\n",
       "      <td>Daniel CASPARY</td>\n",
       "      <td>2023-11-21</td>\n",
       "      <td>DE</td>\n",
       "      <td>EU/New Zealand Free Trade Agreement (debate)</td>\n",
       "      <td>https://www.europarl.europa.eu/doceo/document/...</td>\n",
       "      <td>Daniel Caspary (PPE),  Frage nach dem Verfah...</td>\n",
       "      <td>Germany</td>\n",
       "      <td>Group of the European People's Party (Christia...</td>\n",
       "      <td>28219</td>\n",
       "      <td>Christlich Demokratische Union Deutschlands</td>\n",
       "      <td>NaN</td>\n",
       "    </tr>\n",
       "    <tr>\n",
       "      <th>2</th>\n",
       "      <td>Daniel CASPARY</td>\n",
       "      <td>2023-11-21</td>\n",
       "      <td>DE</td>\n",
       "      <td>EU/New Zealand Free Trade Agreement (debate)</td>\n",
       "      <td>https://www.europarl.europa.eu/doceo/document/...</td>\n",
       "      <td>Daniel Caspary,  Berichterstatter. – Frau Pr...</td>\n",
       "      <td>Germany</td>\n",
       "      <td>Group of the European People's Party (Christia...</td>\n",
       "      <td>28219</td>\n",
       "      <td>Christlich Demokratische Union Deutschlands</td>\n",
       "      <td>NaN</td>\n",
       "    </tr>\n",
       "    <tr>\n",
       "      <th>3</th>\n",
       "      <td>Daniel CASPARY</td>\n",
       "      <td>2023-11-08</td>\n",
       "      <td>DE</td>\n",
       "      <td>Urgent need for immediate measures against the...</td>\n",
       "      <td>https://www.europarl.europa.eu/doceo/document/...</td>\n",
       "      <td>Daniel Caspary,  im Namen der PPE-Fraktion. ...</td>\n",
       "      <td>Germany</td>\n",
       "      <td>Group of the European People's Party (Christia...</td>\n",
       "      <td>28219</td>\n",
       "      <td>Christlich Demokratische Union Deutschlands</td>\n",
       "      <td>NaN</td>\n",
       "    </tr>\n",
       "    <tr>\n",
       "      <th>4</th>\n",
       "      <td>Daniel CASPARY</td>\n",
       "      <td>2023-10-18</td>\n",
       "      <td>DE</td>\n",
       "      <td>The despicable terrorist attacks by Hamas agai...</td>\n",
       "      <td>https://www.europarl.europa.eu/doceo/document/...</td>\n",
       "      <td>Daniel Caspary (PPE).   – Herr Präsident! De...</td>\n",
       "      <td>Germany</td>\n",
       "      <td>Group of the European People's Party (Christia...</td>\n",
       "      <td>28219</td>\n",
       "      <td>Christlich Demokratische Union Deutschlands</td>\n",
       "      <td>NaN</td>\n",
       "    </tr>\n",
       "  </tbody>\n",
       "</table>\n",
       "</div>"
      ],
      "text/plain": [
       "               MP        DATE LANGUAGE  \\\n",
       "0  Daniel CASPARY  2023-11-21       DE   \n",
       "1  Daniel CASPARY  2023-11-21       DE   \n",
       "2  Daniel CASPARY  2023-11-21       DE   \n",
       "3  Daniel CASPARY  2023-11-08       DE   \n",
       "4  Daniel CASPARY  2023-10-18       DE   \n",
       "\n",
       "                                               TITLE  \\\n",
       "0       EU/New Zealand Free Trade Agreement (debate)   \n",
       "1       EU/New Zealand Free Trade Agreement (debate)   \n",
       "2       EU/New Zealand Free Trade Agreement (debate)   \n",
       "3  Urgent need for immediate measures against the...   \n",
       "4  The despicable terrorist attacks by Hamas agai...   \n",
       "\n",
       "                                                 URL  \\\n",
       "0  https://www.europarl.europa.eu/doceo/document/...   \n",
       "1  https://www.europarl.europa.eu/doceo/document/...   \n",
       "2  https://www.europarl.europa.eu/doceo/document/...   \n",
       "3  https://www.europarl.europa.eu/doceo/document/...   \n",
       "4  https://www.europarl.europa.eu/doceo/document/...   \n",
       "\n",
       "                                             CONTENT  COUNTRY  \\\n",
       "0    Daniel Caspary,  Berichterstatter. – Herr Pr...  Germany   \n",
       "1    Daniel Caspary (PPE),  Frage nach dem Verfah...  Germany   \n",
       "2    Daniel Caspary,  Berichterstatter. – Frau Pr...  Germany   \n",
       "3    Daniel Caspary,  im Namen der PPE-Fraktion. ...  Germany   \n",
       "4    Daniel Caspary (PPE).   – Herr Präsident! De...  Germany   \n",
       "\n",
       "                                      POLITICALGROUP     ID  \\\n",
       "0  Group of the European People's Party (Christia...  28219   \n",
       "1  Group of the European People's Party (Christia...  28219   \n",
       "2  Group of the European People's Party (Christia...  28219   \n",
       "3  Group of the European People's Party (Christia...  28219   \n",
       "4  Group of the European People's Party (Christia...  28219   \n",
       "\n",
       "                        NATIONALPOLITICALGROUP TRANSLATION  \n",
       "0  Christlich Demokratische Union Deutschlands         NaN  \n",
       "1  Christlich Demokratische Union Deutschlands         NaN  \n",
       "2  Christlich Demokratische Union Deutschlands         NaN  \n",
       "3  Christlich Demokratische Union Deutschlands         NaN  \n",
       "4  Christlich Demokratische Union Deutschlands         NaN  "
      ]
     },
     "execution_count": 7,
     "metadata": {},
     "output_type": "execute_result"
    }
   ],
   "source": [
    "# If language is English replace column Translation with the actual Content\n",
    "\n",
    "en_translation = []\n",
    "\n",
    "for idx in df.itertuples():\n",
    "\n",
    "    if idx.Language == 'EN':\n",
    "        txt = idx.Content\n",
    "        en_translation.append(txt)\n",
    "    else:\n",
    "        txt = idx.Translation\n",
    "        en_translation.append(txt)\n",
    "\n",
    "df['Translation'] = en_translation\n",
    "\n",
    "# Column names in capital letters\n",
    "df.columns = [x.upper() for x in df.columns]\n",
    "\n",
    "df.head()"
   ]
  },
  {
   "cell_type": "markdown",
   "metadata": {},
   "source": [
    "# Rag with Llama Index"
   ]
  },
  {
   "cell_type": "code",
   "execution_count": 1,
   "metadata": {},
   "outputs": [],
   "source": [
    "#df[~df['TRANSLATION'].isnull()]['LANGUAGE'].value_counts()"
   ]
  },
  {
   "cell_type": "code",
   "execution_count": 8,
   "metadata": {},
   "outputs": [],
   "source": [
    "# Do RAG only on Italian speeches translated in English\n",
    "tt = df[df['COUNTRY'] == 'Italy']\n",
    "\n",
    "g = \"\\n\\n\".join([x for x in tt['TRANSLATION'].dropna().tolist()])"
   ]
  },
  {
   "cell_type": "code",
   "execution_count": 11,
   "metadata": {},
   "outputs": [],
   "source": [
    "from llama_index import Document\n",
    "from llama_index import VectorStoreIndex\n",
    "from llama_index import ServiceContext\n",
    "from llama_index.llms import OpenAI\n",
    "\n",
    "document = Document(text=g)\n",
    "\n",
    "llm = OpenAI(model=\"gpt-3.5-turbo\", temperature=0.1)\n",
    "service_context = ServiceContext.from_defaults(\n",
    "    llm=llm, embed_model=\"local:BAAI/bge-small-en-v1.5\"\n",
    ")\n",
    "index = VectorStoreIndex.from_documents([document],\n",
    "                                        service_context=service_context)"
   ]
  },
  {
   "cell_type": "code",
   "execution_count": 12,
   "metadata": {},
   "outputs": [],
   "source": [
    "query_engine = index.as_query_engine(similarity_top_k=10)"
   ]
  },
  {
   "cell_type": "code",
   "execution_count": 18,
   "metadata": {},
   "outputs": [
    {
     "name": "stdout",
     "output_type": "stream",
     "text": [
      "('Susanna Ceccardi (ID) and Vincenzo Sofo (ECR) are MEPs who emphasize the '\n",
      " 'need to curb immigration by addressing irregular migration, promoting '\n",
      " \"orderly entry, and protecting Europe's borders. They prioritize preventing \"\n",
      " 'illegal immigration, saving lives in the Mediterranean, and enabling member '\n",
      " 'states to regulate entry into their territories.')\n"
     ]
    }
   ],
   "source": [
    "YOUR_QUERY = \"\"\"\n",
    "\n",
    "    Find Meps who ask for a curbing on immigration and summarize their position\n",
    "\"\"\"\n",
    "\n",
    "response = query_engine.query(\n",
    "    YOUR_QUERY)\n",
    "\n",
    "pprint.pprint(str(response))"
   ]
  },
  {
   "cell_type": "code",
   "execution_count": 19,
   "metadata": {},
   "outputs": [],
   "source": [
    "#chat_engine = index.as_chat_engine()\n",
    "#response = chat_engine.chat(YOUR_QUERY)"
   ]
  }
 ],
 "metadata": {
  "kernelspec": {
   "display_name": "Python 3",
   "language": "python",
   "name": "python3"
  },
  "language_info": {
   "codemirror_mode": {
    "name": "ipython",
    "version": 3
   },
   "file_extension": ".py",
   "mimetype": "text/x-python",
   "name": "python",
   "nbconvert_exporter": "python",
   "pygments_lexer": "ipython3",
   "version": "3.11.4"
  },
  "orig_nbformat": 4
 },
 "nbformat": 4,
 "nbformat_minor": 2
}
