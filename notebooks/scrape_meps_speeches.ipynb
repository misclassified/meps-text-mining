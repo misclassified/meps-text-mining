{
 "cells": [
  {
   "cell_type": "code",
   "execution_count": 19,
   "metadata": {},
   "outputs": [
    {
     "name": "stdout",
     "output_type": "stream",
     "text": [
      "The autoreload extension is already loaded. To reload it, use:\n",
      "  %reload_ext autoreload\n"
     ]
    }
   ],
   "source": [
    "%load_ext autoreload\n",
    "%autoreload 2\n",
    "\n",
    "import os\n",
    "import logging\n",
    "import pandas as pd\n",
    "import yaml\n",
    "\n",
    "import sys \n",
    "sys.path.append(\"../src\")\n",
    "\n",
    "\n",
    "from scape_meps_speeches import scrape_speeches\n"
   ]
  },
  {
   "cell_type": "code",
   "execution_count": 21,
   "metadata": {},
   "outputs": [
    {
     "data": {
      "text/plain": [
       "{'meps_speeches': {'europal_website': 'https://www.europarl.europa.eu',\n",
       "  'href_root': 'https://www.europarl.europa.eu/meps/en/',\n",
       "  'output_dir': 'data/meps_plenary_speeches',\n",
       "  'logs_dir': 'logs',\n",
       "  'logs_filename': 'scraping_speeches.txt'}}"
      ]
     },
     "execution_count": 21,
     "metadata": {},
     "output_type": "execute_result"
    }
   ],
   "source": [
    "with open('../config/config.yaml', 'r') as file:\n",
    "    config = yaml.safe_load(file)\n",
    "\n",
    "config"
   ]
  },
  {
   "cell_type": "code",
   "execution_count": 45,
   "metadata": {},
   "outputs": [],
   "source": [
    "# Configuration\n",
    "current_directory = os.path.dirname(os.path.abspath(os.getcwd()))\n",
    "\n",
    "input_dir = '../data/country_meps/meps_de.csv'\n",
    "\n",
    "europal_website = config['meps_speeches']['europal_website']\n",
    "href_root = config['meps_speeches']['href_root']\n",
    "output_dir = os.path.join(current_directory, config['meps_speeches']['output_dir'])\n",
    "\n",
    "# Configure logging \n",
    "logs_dir = os.path.join(current_directory, config['meps_speeches']['logs_dir'])\n",
    "logs_filename = config['meps_speeches']['logs_filename']\n",
    "\n",
    "logging.basicConfig(\n",
    "    filename=os.path.join(logs_dir, logs_filename),\n",
    "    level=logging.INFO, \n",
    "    format='%(asctime)s - %(levelname)s - %(message)s',\n",
    "    force=True\n",
    "    )\n"
   ]
  },
  {
   "cell_type": "code",
   "execution_count": 46,
   "metadata": {},
   "outputs": [
    {
     "data": {
      "text/html": [
       "<div>\n",
       "<style scoped>\n",
       "    .dataframe tbody tr th:only-of-type {\n",
       "        vertical-align: middle;\n",
       "    }\n",
       "\n",
       "    .dataframe tbody tr th {\n",
       "        vertical-align: top;\n",
       "    }\n",
       "\n",
       "    .dataframe thead th {\n",
       "        text-align: right;\n",
       "    }\n",
       "</style>\n",
       "<table border=\"1\" class=\"dataframe\">\n",
       "  <thead>\n",
       "    <tr style=\"text-align: right;\">\n",
       "      <th></th>\n",
       "      <th>fullName</th>\n",
       "      <th>country</th>\n",
       "      <th>politicalGroup</th>\n",
       "      <th>id</th>\n",
       "      <th>nationalPoliticalGroup</th>\n",
       "    </tr>\n",
       "  </thead>\n",
       "  <tbody>\n",
       "    <tr>\n",
       "      <th>0</th>\n",
       "      <td>Christine ANDERSON</td>\n",
       "      <td>Germany</td>\n",
       "      <td>Identity and Democracy Group</td>\n",
       "      <td>197475</td>\n",
       "      <td>Alternative für Deutschland</td>\n",
       "    </tr>\n",
       "    <tr>\n",
       "      <th>1</th>\n",
       "      <td>Rasmus ANDRESEN</td>\n",
       "      <td>Germany</td>\n",
       "      <td>Group of the Greens/European Free Alliance</td>\n",
       "      <td>197448</td>\n",
       "      <td>Bündnis 90/Die Grünen</td>\n",
       "    </tr>\n",
       "    <tr>\n",
       "      <th>2</th>\n",
       "      <td>Katarina BARLEY</td>\n",
       "      <td>Germany</td>\n",
       "      <td>Group of the Progressive Alliance of Socialist...</td>\n",
       "      <td>197433</td>\n",
       "      <td>Sozialdemokratische Partei Deutschlands</td>\n",
       "    </tr>\n",
       "    <tr>\n",
       "      <th>3</th>\n",
       "      <td>Gunnar BECK</td>\n",
       "      <td>Germany</td>\n",
       "      <td>Identity and Democracy Group</td>\n",
       "      <td>132191</td>\n",
       "      <td>Alternative für Deutschland</td>\n",
       "    </tr>\n",
       "    <tr>\n",
       "      <th>4</th>\n",
       "      <td>Nicola BEER</td>\n",
       "      <td>Germany</td>\n",
       "      <td>Renew Europe Group</td>\n",
       "      <td>197437</td>\n",
       "      <td>Freie Demokratische Partei</td>\n",
       "    </tr>\n",
       "    <tr>\n",
       "      <th>5</th>\n",
       "      <td>Hildegard BENTELE</td>\n",
       "      <td>Germany</td>\n",
       "      <td>Group of the European People's Party (Christia...</td>\n",
       "      <td>197408</td>\n",
       "      <td>Christlich Demokratische Union Deutschlands</td>\n",
       "    </tr>\n",
       "    <tr>\n",
       "      <th>6</th>\n",
       "      <td>Lars Patrick BERG</td>\n",
       "      <td>Germany</td>\n",
       "      <td>European Conservatives and Reformists Group</td>\n",
       "      <td>197478</td>\n",
       "      <td>Bündnis Deutschland</td>\n",
       "    </tr>\n",
       "    <tr>\n",
       "      <th>7</th>\n",
       "      <td>Stefan BERGER</td>\n",
       "      <td>Germany</td>\n",
       "      <td>Group of the European People's Party (Christia...</td>\n",
       "      <td>197410</td>\n",
       "      <td>Christlich Demokratische Union Deutschlands</td>\n",
       "    </tr>\n",
       "    <tr>\n",
       "      <th>8</th>\n",
       "      <td>Gabriele BISCHOFF</td>\n",
       "      <td>Germany</td>\n",
       "      <td>Group of the Progressive Alliance of Socialist...</td>\n",
       "      <td>197435</td>\n",
       "      <td>Sozialdemokratische Partei Deutschlands</td>\n",
       "    </tr>\n",
       "    <tr>\n",
       "      <th>9</th>\n",
       "      <td>Michael BLOSS</td>\n",
       "      <td>Germany</td>\n",
       "      <td>Group of the Greens/European Free Alliance</td>\n",
       "      <td>197449</td>\n",
       "      <td>Bündnis 90/Die Grünen</td>\n",
       "    </tr>\n",
       "  </tbody>\n",
       "</table>\n",
       "</div>"
      ],
      "text/plain": [
       "             fullName  country  \\\n",
       "0  Christine ANDERSON  Germany   \n",
       "1     Rasmus ANDRESEN  Germany   \n",
       "2     Katarina BARLEY  Germany   \n",
       "3         Gunnar BECK  Germany   \n",
       "4         Nicola BEER  Germany   \n",
       "5   Hildegard BENTELE  Germany   \n",
       "6   Lars Patrick BERG  Germany   \n",
       "7       Stefan BERGER  Germany   \n",
       "8   Gabriele BISCHOFF  Germany   \n",
       "9       Michael BLOSS  Germany   \n",
       "\n",
       "                                      politicalGroup      id  \\\n",
       "0                       Identity and Democracy Group  197475   \n",
       "1         Group of the Greens/European Free Alliance  197448   \n",
       "2  Group of the Progressive Alliance of Socialist...  197433   \n",
       "3                       Identity and Democracy Group  132191   \n",
       "4                                 Renew Europe Group  197437   \n",
       "5  Group of the European People's Party (Christia...  197408   \n",
       "6        European Conservatives and Reformists Group  197478   \n",
       "7  Group of the European People's Party (Christia...  197410   \n",
       "8  Group of the Progressive Alliance of Socialist...  197435   \n",
       "9         Group of the Greens/European Free Alliance  197449   \n",
       "\n",
       "                        nationalPoliticalGroup  \n",
       "0                  Alternative für Deutschland  \n",
       "1                        Bündnis 90/Die Grünen  \n",
       "2      Sozialdemokratische Partei Deutschlands  \n",
       "3                  Alternative für Deutschland  \n",
       "4                   Freie Demokratische Partei  \n",
       "5  Christlich Demokratische Union Deutschlands  \n",
       "6                          Bündnis Deutschland  \n",
       "7  Christlich Demokratische Union Deutschlands  \n",
       "8      Sozialdemokratische Partei Deutschlands  \n",
       "9                        Bündnis 90/Die Grünen  "
      ]
     },
     "execution_count": 46,
     "metadata": {},
     "output_type": "execute_result"
    }
   ],
   "source": [
    "meps = pd.read_csv(input_dir).iloc[:10]\n",
    "meps"
   ]
  },
  {
   "cell_type": "code",
   "execution_count": 47,
   "metadata": {},
   "outputs": [
    {
     "name": "stdout",
     "output_type": "stream",
     "text": [
      "Start Processing Christine ANDERSON\n",
      "Starting fetching list of speeches for Christine ANDERSON\n",
      "No more speeches available or some generic error to check\n",
      "Stopped fetching list of speeches for Christine ANDERSON\n",
      "75\n",
      "No old file with scraped speeches at /Users/giovannibruner/Documents/meps-text-mining/data/meps_plenary_speeches/Christine ANDERSON.csv. \n",
      "                    Skipping file reading and scraping 75 speeches.\n",
      "--------------- End Processing Christine ANDERSON\n",
      "Start Processing Rasmus ANDRESEN\n",
      "Starting fetching list of speeches for Rasmus ANDRESEN\n",
      "No more speeches available or some generic error to check\n",
      "Stopped fetching list of speeches for Rasmus ANDRESEN\n",
      "90\n",
      "No old file with scraped speeches at /Users/giovannibruner/Documents/meps-text-mining/data/meps_plenary_speeches/Rasmus ANDRESEN.csv. \n",
      "                    Skipping file reading and scraping 90 speeches.\n",
      "--------------- End Processing Rasmus ANDRESEN\n",
      "Start Processing Katarina BARLEY\n",
      "Starting fetching list of speeches for Katarina BARLEY\n",
      "No more speeches available or some generic error to check\n",
      "Stopped fetching list of speeches for Katarina BARLEY\n",
      "372\n",
      "No old file with scraped speeches at /Users/giovannibruner/Documents/meps-text-mining/data/meps_plenary_speeches/Katarina BARLEY.csv. \n",
      "                    Skipping file reading and scraping 372 speeches.\n",
      "An error occurred: ('Connection aborted.', RemoteDisconnected('Remote end closed connection without response'))\n",
      "An error occurred: ('Connection aborted.', ConnectionResetError(54, 'Connection reset by peer'))\n",
      "--------------- End Processing Katarina BARLEY\n",
      "Start Processing Gunnar BECK\n"
     ]
    },
    {
     "ename": "TimeoutException",
     "evalue": "Message: timeout: Timed out receiving message from renderer: 299.811\n  (Session info: chrome=120.0.6099.129)\nStacktrace:\n0   chromedriver                        0x00000001050b6004 chromedriver + 4169732\n1   chromedriver                        0x00000001050adff8 chromedriver + 4136952\n2   chromedriver                        0x0000000104d03500 chromedriver + 292096\n3   chromedriver                        0x0000000104ceba88 chromedriver + 195208\n4   chromedriver                        0x0000000104ceb97c chromedriver + 194940\n5   chromedriver                        0x0000000104ce9ef4 chromedriver + 188148\n6   chromedriver                        0x0000000104ceab14 chromedriver + 191252\n7   chromedriver                        0x0000000104cf9c80 chromedriver + 253056\n8   chromedriver                        0x0000000104d0ea3c chromedriver + 338492\n9   chromedriver                        0x0000000104ceb26c chromedriver + 193132\n10  chromedriver                        0x0000000104d0e858 chromedriver + 338008\n11  chromedriver                        0x0000000104d83870 chromedriver + 817264\n12  chromedriver                        0x0000000104d3c5e8 chromedriver + 525800\n13  chromedriver                        0x0000000104d3d4b8 chromedriver + 529592\n14  chromedriver                        0x000000010507c334 chromedriver + 3932980\n15  chromedriver                        0x0000000105080970 chromedriver + 3950960\n16  chromedriver                        0x0000000105064774 chromedriver + 3835764\n17  chromedriver                        0x0000000105081478 chromedriver + 3953784\n18  chromedriver                        0x0000000105056ab4 chromedriver + 3779252\n19  chromedriver                        0x000000010509d914 chromedriver + 4069652\n20  chromedriver                        0x000000010509da90 chromedriver + 4070032\n21  chromedriver                        0x00000001050adc70 chromedriver + 4136048\n22  libsystem_pthread.dylib             0x0000000193dde06c _pthread_start + 148\n23  libsystem_pthread.dylib             0x0000000193dd8e2c thread_start + 8\n",
     "output_type": "error",
     "traceback": [
      "\u001b[0;31m---------------------------------------------------------------------------\u001b[0m",
      "\u001b[0;31mTimeoutException\u001b[0m                          Traceback (most recent call last)",
      "\u001b[1;32m/Users/giovannibruner/Documents/meps-text-mining/notebooks/scrape_meps_speeches.ipynb Cell 5\u001b[0m line \u001b[0;36m1\n\u001b[0;32m----> <a href='vscode-notebook-cell:/Users/giovannibruner/Documents/meps-text-mining/notebooks/scrape_meps_speeches.ipynb#W3sZmlsZQ%3D%3D?line=0'>1</a>\u001b[0m scrape_speeches(meps, europal_website, href_root, output_dir)\n",
      "File \u001b[0;32m~/Documents/meps-text-mining/notebooks/../src/scape_meps_speeches.py:177\u001b[0m, in \u001b[0;36mscrape_speeches\u001b[0;34m(meps, europal_website, href_root, output_dir)\u001b[0m\n\u001b[1;32m    175\u001b[0m \u001b[39m# Inizialize Web Drive and get page \u001b[39;00m\n\u001b[1;32m    176\u001b[0m driver \u001b[39m=\u001b[39m webdriver\u001b[39m.\u001b[39mChrome()\n\u001b[0;32m--> 177\u001b[0m driver\u001b[39m.\u001b[39;49mget(target_href)\n\u001b[1;32m    180\u001b[0m \u001b[39m# Agree on cookies to allow further action\u001b[39;00m\n\u001b[1;32m    181\u001b[0m time\u001b[39m.\u001b[39msleep(\u001b[39m5\u001b[39m)\n",
      "File \u001b[0;32m/Library/Frameworks/Python.framework/Versions/3.11/lib/python3.11/site-packages/selenium/webdriver/remote/webdriver.py:354\u001b[0m, in \u001b[0;36mWebDriver.get\u001b[0;34m(self, url)\u001b[0m\n\u001b[1;32m    352\u001b[0m \u001b[39mdef\u001b[39;00m \u001b[39mget\u001b[39m(\u001b[39mself\u001b[39m, url: \u001b[39mstr\u001b[39m) \u001b[39m-\u001b[39m\u001b[39m>\u001b[39m \u001b[39mNone\u001b[39;00m:\n\u001b[1;32m    353\u001b[0m \u001b[39m    \u001b[39m\u001b[39m\"\"\"Loads a web page in the current browser session.\"\"\"\u001b[39;00m\n\u001b[0;32m--> 354\u001b[0m     \u001b[39mself\u001b[39;49m\u001b[39m.\u001b[39;49mexecute(Command\u001b[39m.\u001b[39;49mGET, {\u001b[39m\"\u001b[39;49m\u001b[39murl\u001b[39;49m\u001b[39m\"\u001b[39;49m: url})\n",
      "File \u001b[0;32m/Library/Frameworks/Python.framework/Versions/3.11/lib/python3.11/site-packages/selenium/webdriver/remote/webdriver.py:345\u001b[0m, in \u001b[0;36mWebDriver.execute\u001b[0;34m(self, driver_command, params)\u001b[0m\n\u001b[1;32m    343\u001b[0m response \u001b[39m=\u001b[39m \u001b[39mself\u001b[39m\u001b[39m.\u001b[39mcommand_executor\u001b[39m.\u001b[39mexecute(driver_command, params)\n\u001b[1;32m    344\u001b[0m \u001b[39mif\u001b[39;00m response:\n\u001b[0;32m--> 345\u001b[0m     \u001b[39mself\u001b[39;49m\u001b[39m.\u001b[39;49merror_handler\u001b[39m.\u001b[39;49mcheck_response(response)\n\u001b[1;32m    346\u001b[0m     response[\u001b[39m\"\u001b[39m\u001b[39mvalue\u001b[39m\u001b[39m\"\u001b[39m] \u001b[39m=\u001b[39m \u001b[39mself\u001b[39m\u001b[39m.\u001b[39m_unwrap_value(response\u001b[39m.\u001b[39mget(\u001b[39m\"\u001b[39m\u001b[39mvalue\u001b[39m\u001b[39m\"\u001b[39m, \u001b[39mNone\u001b[39;00m))\n\u001b[1;32m    347\u001b[0m     \u001b[39mreturn\u001b[39;00m response\n",
      "File \u001b[0;32m/Library/Frameworks/Python.framework/Versions/3.11/lib/python3.11/site-packages/selenium/webdriver/remote/errorhandler.py:229\u001b[0m, in \u001b[0;36mErrorHandler.check_response\u001b[0;34m(self, response)\u001b[0m\n\u001b[1;32m    227\u001b[0m         alert_text \u001b[39m=\u001b[39m value[\u001b[39m\"\u001b[39m\u001b[39malert\u001b[39m\u001b[39m\"\u001b[39m]\u001b[39m.\u001b[39mget(\u001b[39m\"\u001b[39m\u001b[39mtext\u001b[39m\u001b[39m\"\u001b[39m)\n\u001b[1;32m    228\u001b[0m     \u001b[39mraise\u001b[39;00m exception_class(message, screen, stacktrace, alert_text)  \u001b[39m# type: ignore[call-arg]  # mypy is not smart enough here\u001b[39;00m\n\u001b[0;32m--> 229\u001b[0m \u001b[39mraise\u001b[39;00m exception_class(message, screen, stacktrace)\n",
      "\u001b[0;31mTimeoutException\u001b[0m: Message: timeout: Timed out receiving message from renderer: 299.811\n  (Session info: chrome=120.0.6099.129)\nStacktrace:\n0   chromedriver                        0x00000001050b6004 chromedriver + 4169732\n1   chromedriver                        0x00000001050adff8 chromedriver + 4136952\n2   chromedriver                        0x0000000104d03500 chromedriver + 292096\n3   chromedriver                        0x0000000104ceba88 chromedriver + 195208\n4   chromedriver                        0x0000000104ceb97c chromedriver + 194940\n5   chromedriver                        0x0000000104ce9ef4 chromedriver + 188148\n6   chromedriver                        0x0000000104ceab14 chromedriver + 191252\n7   chromedriver                        0x0000000104cf9c80 chromedriver + 253056\n8   chromedriver                        0x0000000104d0ea3c chromedriver + 338492\n9   chromedriver                        0x0000000104ceb26c chromedriver + 193132\n10  chromedriver                        0x0000000104d0e858 chromedriver + 338008\n11  chromedriver                        0x0000000104d83870 chromedriver + 817264\n12  chromedriver                        0x0000000104d3c5e8 chromedriver + 525800\n13  chromedriver                        0x0000000104d3d4b8 chromedriver + 529592\n14  chromedriver                        0x000000010507c334 chromedriver + 3932980\n15  chromedriver                        0x0000000105080970 chromedriver + 3950960\n16  chromedriver                        0x0000000105064774 chromedriver + 3835764\n17  chromedriver                        0x0000000105081478 chromedriver + 3953784\n18  chromedriver                        0x0000000105056ab4 chromedriver + 3779252\n19  chromedriver                        0x000000010509d914 chromedriver + 4069652\n20  chromedriver                        0x000000010509da90 chromedriver + 4070032\n21  chromedriver                        0x00000001050adc70 chromedriver + 4136048\n22  libsystem_pthread.dylib             0x0000000193dde06c _pthread_start + 148\n23  libsystem_pthread.dylib             0x0000000193dd8e2c thread_start + 8\n"
     ]
    }
   ],
   "source": [
    "scrape_speeches(meps, europal_website, href_root, output_dir)"
   ]
  }
 ],
 "metadata": {
  "kernelspec": {
   "display_name": "Python 3",
   "language": "python",
   "name": "python3"
  },
  "language_info": {
   "codemirror_mode": {
    "name": "ipython",
    "version": 3
   },
   "file_extension": ".py",
   "mimetype": "text/x-python",
   "name": "python",
   "nbconvert_exporter": "python",
   "pygments_lexer": "ipython3",
   "version": "3.11.4"
  },
  "orig_nbformat": 4
 },
 "nbformat": 4,
 "nbformat_minor": 2
}
